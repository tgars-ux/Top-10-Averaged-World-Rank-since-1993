{
 "cells": [
  {
   "cell_type": "code",
   "execution_count": 2,
   "metadata": {},
   "outputs": [],
   "source": [
    "import pandas as pd\n",
    "import matplotlib.pyplot as plt\n",
    "import plotly.graph_objs as go\n",
    "%matplotlib inline\n",
    "import numpy as np\n",
    "import seaborn as sns"
   ]
  },
  {
   "cell_type": "code",
   "execution_count": 3,
   "metadata": {},
   "outputs": [],
   "source": [
    "# Historical FIFA rankings dataframe\n",
    "historical_rankings = pd.read_csv('fifa_ranking.csv')\n",
    "# Historical match between 2 teams dataframe\n",
    "historical_matches = pd.read_csv('results.csv')\n",
    "world_cup = pd.read_csv('World Cup 2018 Dataset.csv')"
   ]
  },
  {
   "cell_type": "code",
   "execution_count": 4,
   "metadata": {},
   "outputs": [],
   "source": [
    "historical_rankings = historical_rankings.replace({'IR Iran': 'Iran'})\n",
    "historical_matches = historical_matches.replace({'Germany DR': 'Germany', 'China': 'China PR'})\n",
    "world_cup = world_cup.replace({\"IRAN\": \"Iran\", \n",
    "                               \"Costarica\": \"Costa Rica\", \n",
    "                               \"Porugal\": \"Portugal\", \n",
    "                               \"Columbia\": \"Colombia\", \n",
    "                               \"Korea\" : \"Korea Republic\"})\n",
    "world_cup = world_cup.set_index('Team')"
   ]
  },
  {
   "cell_type": "code",
   "execution_count": 5,
   "metadata": {},
   "outputs": [
    {
     "name": "stdout",
     "output_type": "stream",
     "text": [
      "Historical FIFA Rankings:\n",
      "<class 'pandas.core.frame.DataFrame'>\n",
      "RangeIndex: 57793 entries, 0 to 57792\n",
      "Data columns (total 16 columns):\n",
      "rank                       57793 non-null int64\n",
      "country_full               57793 non-null object\n",
      "country_abrv               57793 non-null object\n",
      "total_points               57793 non-null float64\n",
      "previous_points            57793 non-null int64\n",
      "rank_change                57793 non-null int64\n",
      "cur_year_avg               57793 non-null float64\n",
      "cur_year_avg_weighted      57793 non-null float64\n",
      "last_year_avg              57793 non-null float64\n",
      "last_year_avg_weighted     57793 non-null float64\n",
      "two_year_ago_avg           57793 non-null float64\n",
      "two_year_ago_weighted      57793 non-null float64\n",
      "three_year_ago_avg         57793 non-null float64\n",
      "three_year_ago_weighted    57793 non-null float64\n",
      "confederation              57793 non-null object\n",
      "rank_date                  57793 non-null object\n",
      "dtypes: float64(9), int64(3), object(4)\n",
      "memory usage: 7.1+ MB\n",
      "None\n",
      "--------------------------------\n",
      "Historical matches\n",
      "<class 'pandas.core.frame.DataFrame'>\n",
      "RangeIndex: 40839 entries, 0 to 40838\n",
      "Data columns (total 9 columns):\n",
      "date          40839 non-null object\n",
      "home_team     40839 non-null object\n",
      "away_team     40839 non-null object\n",
      "home_score    40839 non-null int64\n",
      "away_score    40839 non-null int64\n",
      "tournament    40839 non-null object\n",
      "city          40839 non-null object\n",
      "country       40839 non-null object\n",
      "neutral       40839 non-null bool\n",
      "dtypes: bool(1), int64(2), object(6)\n",
      "memory usage: 2.5+ MB\n",
      "None\n"
     ]
    }
   ],
   "source": [
    "print(\"Historical FIFA Rankings:\")\n",
    "print(historical_rankings.info())\n",
    "print(\"--------------------------------\")\n",
    "print(\"Historical matches\")\n",
    "print(historical_matches.info())"
   ]
  },
  {
   "cell_type": "code",
   "execution_count": 6,
   "metadata": {},
   "outputs": [
    {
     "data": {
      "text/html": [
       "<div>\n",
       "<style scoped>\n",
       "    .dataframe tbody tr th:only-of-type {\n",
       "        vertical-align: middle;\n",
       "    }\n",
       "\n",
       "    .dataframe tbody tr th {\n",
       "        vertical-align: top;\n",
       "    }\n",
       "\n",
       "    .dataframe thead th {\n",
       "        text-align: right;\n",
       "    }\n",
       "</style>\n",
       "<table border=\"1\" class=\"dataframe\">\n",
       "  <thead>\n",
       "    <tr style=\"text-align: right;\">\n",
       "      <th></th>\n",
       "      <th>rank_date</th>\n",
       "      <th>rank</th>\n",
       "      <th>country_full</th>\n",
       "      <th>country_abrv</th>\n",
       "      <th>total_points</th>\n",
       "      <th>confederation</th>\n",
       "    </tr>\n",
       "  </thead>\n",
       "  <tbody>\n",
       "    <tr>\n",
       "      <th>0</th>\n",
       "      <td>2003-01-15</td>\n",
       "      <td>204.0</td>\n",
       "      <td>Afghanistan</td>\n",
       "      <td>AFG</td>\n",
       "      <td>0.0</td>\n",
       "      <td>AFC</td>\n",
       "    </tr>\n",
       "    <tr>\n",
       "      <th>1</th>\n",
       "      <td>2003-01-16</td>\n",
       "      <td>204.0</td>\n",
       "      <td>Afghanistan</td>\n",
       "      <td>AFG</td>\n",
       "      <td>0.0</td>\n",
       "      <td>AFC</td>\n",
       "    </tr>\n",
       "    <tr>\n",
       "      <th>2</th>\n",
       "      <td>2003-01-17</td>\n",
       "      <td>204.0</td>\n",
       "      <td>Afghanistan</td>\n",
       "      <td>AFG</td>\n",
       "      <td>0.0</td>\n",
       "      <td>AFC</td>\n",
       "    </tr>\n",
       "    <tr>\n",
       "      <th>3</th>\n",
       "      <td>2003-01-18</td>\n",
       "      <td>204.0</td>\n",
       "      <td>Afghanistan</td>\n",
       "      <td>AFG</td>\n",
       "      <td>0.0</td>\n",
       "      <td>AFC</td>\n",
       "    </tr>\n",
       "    <tr>\n",
       "      <th>4</th>\n",
       "      <td>2003-01-19</td>\n",
       "      <td>204.0</td>\n",
       "      <td>Afghanistan</td>\n",
       "      <td>AFG</td>\n",
       "      <td>0.0</td>\n",
       "      <td>AFC</td>\n",
       "    </tr>\n",
       "  </tbody>\n",
       "</table>\n",
       "</div>"
      ],
      "text/plain": [
       "   rank_date   rank country_full country_abrv  total_points confederation\n",
       "0 2003-01-15  204.0  Afghanistan          AFG           0.0           AFC\n",
       "1 2003-01-16  204.0  Afghanistan          AFG           0.0           AFC\n",
       "2 2003-01-17  204.0  Afghanistan          AFG           0.0           AFC\n",
       "3 2003-01-18  204.0  Afghanistan          AFG           0.0           AFC\n",
       "4 2003-01-19  204.0  Afghanistan          AFG           0.0           AFC"
      ]
     },
     "execution_count": 6,
     "metadata": {},
     "output_type": "execute_result"
    }
   ],
   "source": [
    "historical_rankings = historical_rankings.loc[:,['rank', 'country_full','country_abrv', 'total_points', 'confederation', 'rank_date']]\n",
    "historical_rankings['rank_date'] = pd.to_datetime(historical_rankings['rank_date'])\n",
    "historical_rankings = historical_rankings.set_index(['rank_date'])\\\n",
    "            .groupby(['country_full'], group_keys=False)\\\n",
    "            .resample('D').first()\\\n",
    "            .fillna(method='ffill')\\\n",
    "            .reset_index()\n",
    "historical_rankings.head()"
   ]
  },
  {
   "cell_type": "code",
   "execution_count": 7,
   "metadata": {},
   "outputs": [],
   "source": [
    "\n",
    "historical_rankings_by_team = historical_rankings.groupby([historical_rankings.rank_date.dt.year,historical_rankings.country_full]).mean()\n",
    "historical_rankings_by_team = historical_rankings_by_team.reset_index()"
   ]
  },
  {
   "cell_type": "code",
   "execution_count": 8,
   "metadata": {},
   "outputs": [
    {
     "name": "stdout",
     "output_type": "stream",
     "text": [
      "Top 10 Averaged World Rank since 1993\n"
     ]
    },
    {
     "data": {
      "text/plain": [
       "country_full\n",
       "Brazil          3.085171\n",
       "Germany         4.960291\n",
       "Spain           5.485745\n",
       "Argentina       5.690997\n",
       "Italy           8.218103\n",
       "France          9.087425\n",
       "Netherlands     9.136396\n",
       "England        10.826872\n",
       "Portugal       11.731863\n",
       "Mexico         14.675684\n",
       "Name: rank, dtype: float64"
      ]
     },
     "execution_count": 8,
     "metadata": {},
     "output_type": "execute_result"
    }
   ],
   "source": [
    "print(\"Top 10 Averaged World Rank since 1993\")\n",
    "historical_rankings_by_team.groupby(['country_full']).mean().sort_values(by=['rank'])['rank'][:10]"
   ]
  },
  {
   "cell_type": "code",
   "execution_count": 10,
   "metadata": {},
   "outputs": [
    {
     "name": "stdout",
     "output_type": "stream",
     "text": [
      "Top 32 Teams Averaged World Rank That Failed to Qualify to World Cup 2018\n",
      "   country_full       rank\n",
      "0        Brazil   3.085171\n",
      "1       Germany   4.960291\n",
      "2         Spain   5.485745\n",
      "3     Argentina   5.690997\n",
      "5        France   9.087425\n",
      "7       England  10.826872\n",
      "8      Portugal  11.731863\n",
      "9        Mexico  14.675684\n",
      "12      Denmark  19.559398\n",
      "13     Colombia  20.144352\n",
      "15       Sweden  21.587842\n",
      "16       Russia  23.254707\n",
      "17      Uruguay  23.343179\n",
      "19      Croatia  24.735628\n",
      "21      Belgium  29.846761\n",
      "22  Switzerland  30.459317\n",
      "27        Egypt  33.781895\n",
      "28       Serbia  34.964922\n",
      "29        Japan  35.301610\n"
     ]
    }
   ],
   "source": [
    "print(\"Top 32 Teams Averaged World Rank That Failed to Qualify to World Cup 2018\")\n",
    "top_32 = historical_rankings_by_team.groupby(['country_full']).mean().sort_values(by=['rank'])['rank'][:32].reset_index()\n",
    "not_in_world_cup_2018 = top_32[top_32['country_full'].isin(world_cup.index.unique())]\n",
    "print(not_in_world_cup_2018)"
   ]
  },
  {
   "cell_type": "code",
   "execution_count": null,
   "metadata": {},
   "outputs": [],
   "source": []
  }
 ],
 "metadata": {
  "kernelspec": {
   "display_name": "Python 3",
   "language": "python",
   "name": "python3"
  },
  "language_info": {
   "codemirror_mode": {
    "name": "ipython",
    "version": 3
   },
   "file_extension": ".py",
   "mimetype": "text/x-python",
   "name": "python",
   "nbconvert_exporter": "python",
   "pygments_lexer": "ipython3",
   "version": "3.7.3"
  }
 },
 "nbformat": 4,
 "nbformat_minor": 4
}
